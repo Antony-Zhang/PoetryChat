{
 "cells": [
  {
   "cell_type": "code",
   "execution_count": null,
   "metadata": {},
   "outputs": [],
   "source": [
    "# 以下是完整的Demo代码"
   ]
  },
  {
   "cell_type": "code",
   "execution_count": 12,
   "metadata": {},
   "outputs": [],
   "source": [
    "import json\n",
    "from pathlib import Path\n",
    "from pprint import pprint\n",
    "\n",
    "\n",
    "file_path='./gushiwen.json'\n",
    "data = json.loads(Path(file_path).read_text())"
   ]
  },
  {
   "cell_type": "code",
   "execution_count": 13,
   "metadata": {},
   "outputs": [
    {
     "data": {
      "text/plain": [
       "{'id': 1,\n",
       " 'href': '/shiwenv_0a4d69889c65.aspx',\n",
       " 'title': '长相思·山一程',\n",
       " 'author': '纳兰性德',\n",
       " 'dynasty': '清代',\n",
       " 'content': '<br/>                    山一程，水一程，身向榆关那畔行，夜深千帐灯。风一更，雪一更，聒碎乡心梦不成，故园无此声。 <br/>                ',\n",
       " 'sons': {'译文及注释': {'content': '译文<br/>跋山涉水走过一程又一程，将士们马不停蹄地向着山海关进发。夜已经深了，千万个帐篷里都点起了灯。<br/>帐篷外风声不断，雪花不住，嘈杂的声音打碎了思乡的梦，想到远隔千里的家乡没有这样的声音啊。<br/>注释&nbsp;<br/>程：道路、路程，山一程、水一程，即山长水远。<br/>榆关：即今山海关，在今河北秦皇岛东北。<br/>那畔：即山海关的另一边，指身处关外。<br/>帐：军营的帐篷，千帐言军营之多。<br/>更：旧时一夜分五更，每更大约两小时。风一更、雪一更，即言整夜风雪交加也。<br/>聒（guō）：声音嘈杂，这里指风雪声。<br/>故园：故乡，这里指北京。<br/>此声：指风雪交加的声音。<br/>',\n",
       "   'cankao': '<br/>参考资料：完善<br/><br/>1、<br/>丁成泉，唐玲玲，田蕙兰，黄济华．古今诗粹：教育出版社，1985.04.：第382页<br/><br/><br/>2、<br/>（清）纳兰性德著；孙红颖解译．纳兰词全鉴：中国纺织出版社，2016.02：第10页<br/><br/>'},\n",
       "  '译文及注释二': {'content': '译文<br/>将士们不辞辛苦地跋山涉水，马不停蹄地向着山海关进发。夜已经深了，千万个帐篷里都点起了灯。<br/>外面正刮着风、下着雪，惊醒了睡梦中的将士们，勾起了他们对故乡的思念，故乡是多么的温暖宁静呀，哪有这般狂风呼啸、雪花乱舞的聒噪之声。<br/>注释<br/>长相思。唐教坊曲，双翅小令。又名《双红豆》。<br/>程：道路、路程，山一程、水一程，即山长水远。<br/>榆关：即今山海关，在今河北秦皇岛东北；那畔：即山海关的另一边，指身处关外。<br/>千帐灯：皇帝出巡临时住宿的行帐的灯火。千帐言军营之多。<br/>更：旧时一夜分五更，每更大约两小时。风一更、雪一更，即言整夜风雪交加也。<br/>聒（guō）：声音嘈杂，这里指风雪声。<br/>故园：故乡，这里指北京；此声：指风雪交加的声音。<br/>',\n",
       "   'cankao': '<br/>参考资料：完善<br/><br/>1、<br/>丁成泉，唐玲玲，田蕙兰，黄济华 ．古今诗粹 ：教育出版社 ，1985.04. ：第382页 ．<br/><br/><br/>2、<br/>王大绩，靳文玲 ．小学生必背古诗词大全 ：农村读物出版社 ，2011.09 ：第192页 ．<br/><br/>'},\n",
       "  '赏析': {'content': '&nbsp;&nbsp;词作上片描写跋涉行军与途中驻扎，夹杂着颇多无奈情绪；下片叙述夜来风雪交加，搅碎了乡梦，倍觉惆怅。全词描写将士在外对故乡的思念，抒发了情思深苦的绵长心情。语言淳朴而意味深长，取景宏阔而对照鲜明。<br/>&nbsp;&nbsp;“山一程，水一程”，写出旅程的艰难曲折，遥远漫长。词人翻山越岭，登舟涉水，一程又一程，愈走离家乡愈远。这两句运用反复的修辞方法，将“一程”二字重复使用，突出了路途的漫漫修远。“身向榆关那畔行”，点明了行旅的方向。词人在这里强调的是“身”向榆关，那也就暗示出“心”向京师，它使我们想到词人留恋家园，频频回首，步履蹒跚的情况。“那畔”一词颇含疏远的感情色彩，表现了词人这次奉命出行“榆关”是无可奈何的。<br/>&nbsp;&nbsp;这里借描述周围的情况而写心情，实际是表达纳兰对故乡的深深依恋和怀念。二十几岁的年轻人，风华正茂，出身于书香豪门世家，又有皇帝贴身侍卫的优越地位，本应春风得意，却恰好也是因为这重身份，以及本身心思慎微，导致纳兰并不能够安稳享受那种男儿征战似的生活，他往往思及家人，眷恋故土。严迪昌《清词史》：“夜深千帐灯’是壮丽的，但千帐灯下照着无眠的万颗乡心，又是怎样情味？一暖一寒，两相对照，写尽了自己厌于扈从的情怀。”“夜深千帐灯”既是上片感情酝酿的高潮，也是上、下片之间的自然转换，起到承前启后的作用。经过日间长途跋涉，到了夜晚人们在旷野上搭起帐篷准备就寝；然而夜深了，“千帐”内却灯光熠熠，为什么羁旅劳顿之后深夜不寐呢？<br/>&nbsp;&nbsp;下片侧重游子思乡之苦，交代了深夜不眠的原因。换头写景，风一更雪一更，突出塞外狂风骤雪的荒寒景象。这是以哀景衬伤情，风雪载途，行者乡思更烈。叠用两个一更，突出塞外卷地狂风，铺天暴雪扑打帐篷经久未息的情景；也从一个侧面写出了天寒地冻之夜，人之辗转难眠的状态。聒碎乡心梦不成呼应上片的夜深千帐灯一句，直接回答了深夜不寝的原因。着一聒字，突出了风雪声响之巨；且极具拟人味，仿佛这风雪也通人心似的，彻夜念叨着故园的人事，让人心潮起伏。聒碎乡心，用的是夸张手法，形象地表现了一夜征人尽望乡的愁肠百转的心态。故园无此声，交代了梦不成的原因：故乡是没有这样的连绵不绝的风雪聒噪声的，当然可以酣然入梦；而这边塞苦寒之地，怎比钟灵毓秀之京都，况且又是暴风雪肆虐的露营之夜，加之乡心的重重裹挟，就更难入梦了。结尾这一句直截地表达了征人对故乡的深深眷恋之意。<br/>&nbsp;&nbsp;从总的来说，上阕写面、写外，铺陈壮观；下阕写点、写内，曲描心情。选取的都是平凡的事物，如山水风雪、灯火声音。又采用短小精悍而通俗易懂的语句，轻巧排列，对应整齐。信手拈来，不显雕琢。全篇融细腻情感于雄壮景色之中，尽显非凡，作者用山，水，千帐灯，风，雪等大的物像，来寄托细腻的情感思绪。缠绵而不颓废，柔情之中露出男儿镇守边塞的慷慨报国之志。没有一般边塞诗的大气、沉痛、悲凉、雄壮，而是风格婉约，笔调缠绵，少了抑扬顿挫的沉雄，多了小女儿的缠绵情态。<br/>&nbsp;&nbsp;这首词以白描手法，朴素自然的语言，表现出真切的情感，是很为前人称道的。词人在写景中寄寓了思乡的情怀。格调清淡朴素，自然雅致，直抒胸臆，毫无雕琢痕迹。<br/>',\n",
       "   'cankao': '<br/>参考资料：完善<br/><br/>1、<br/>（清）纳兰性德著 ．纳兰词典评 ：中国华侨出版社 ，2011.01 ：第73页 ．<br/><br/><br/>2、<br/>蓝光中 ．历代诗歌选读 ：中山大学出版社 ，2011.01. ：第313页 ．<br/><br/>'},\n",
       "  '创作背景': {'content': '&nbsp;&nbsp;公元1682年（康熙二十一年）二月十五日，云南平定，康熙帝出关东巡，祭告奉天祖陵。词人随从康熙帝诣永陵、福陵、昭陵告祭，二十三日出山海关。塞上风雪凄迷，苦寒的天气引发了词人对家的思念，于是写下了这首词。 <br/>',\n",
       "   'cankao': '<br/>参考资料：完善<br/><br/>1、<br/>（清）纳兰性德著 ．纳兰词典评 ：中国华侨出版社 ，2011.01 ：第73页 ．<br/><br/>'},\n",
       "  '鉴赏': {'content': '&nbsp;&nbsp;清初词人于小令每多新创意境。这首《长相思》以具体的时空推移过程，及视听感受，既表现景象的宏阔观感，更抒露着情思深苦的绵长心境，是即小见大的佳作。<br/>&nbsp;&nbsp;上片在“一程”又“一程”的复叠吟哦中，展示出与家园的空间阻隔不断地随着时间的推移而严重增大，空间感与乡情构成尖锐冲突。正在这种行进方向和心绪逆反背离中驻营夜宿，“夜深千帐灯”，似是壮伟景观，实乃情心深苦之写。白日行军，跋涉山水，到夜深时仍灯火通明，难入梦乡，这是因思乡而失眠。于是转入下片乡情思恋之笔。<br/>&nbsp;&nbsp;“一更”又“一更”的重叠复沓，于听风听雪的感觉中推移着时间过程，时间感知于乡情的空间阻隔而心烦意乱，怨夜太长。说“聒碎乡心梦不成”，其实是作者乡心聒碎梦难成，情苦不寐，只觉得风声雪声，声声扣击入心窝，难以承受。在“乡园”时是不会有这种令人痛苦的声响的。将主观因素推诿客观，语似平淡，意更深沉。此类迁怒归咎于风雪声写法，心理情态能充分表现出来。看似无理，反见情痴，愈是无理之怨，其怨愈显沉重。叠句和数字“一”、“千”的运用强化着视、听觉感受中的焦虑，怨怼，幽苦，亦是此词值得辨味的佳处。纳兰性德身为一等侍卫，却极厌烦“扈从”公差，于是构成传统羁旅题材的又一种类型。 <br/>',\n",
       "   'cankao': '<br/>本节内容由匿名网友上传，原作者已无法考证。本站免费发布仅供学习参考，其观点不代表本站立场。站务邮箱：gushiwen@laiyo.com完善<br/>'}},\n",
       " 'links': \"['/shiwenv_2fc1d591aa9b.aspx', '/shiwenv_96845a93c298.aspx', '/shiwenv_67fbd0a4158e.aspx']\"}"
      ]
     },
     "execution_count": 13,
     "metadata": {},
     "output_type": "execute_result"
    }
   ],
   "source": [
    "data[0]"
   ]
  },
  {
   "cell_type": "code",
   "execution_count": 18,
   "metadata": {},
   "outputs": [
    {
     "data": {
      "text/plain": [
       "{'id': 1,\n",
       " 'title': '长相思·山一程',\n",
       " 'author': '纳兰性德',\n",
       " 'dynasty': '清代',\n",
       " 'content': '                    山一程，水一程，身向榆关那畔行，夜深千帐灯。风一更，雪一更，聒碎乡心梦不成，故园无此声。                 ',\n",
       " 'translation': '译文跋山涉水走过一程又一程，将士们马不停蹄地向着山海关进发。夜已经深了，千万个帐篷里都点起了灯。帐篷外风声不断，雪花不住，嘈杂的声音打碎了思乡的梦，想到远隔千里的家乡没有这样的声音啊。注释&nbsp;程：道路、路程，山一程、水一程，即山长水远。榆关：即今山海关，在今河北秦皇岛东北。那畔：即山海关的另一边，指身处关外。帐：军营的帐篷，千帐言军营之多。更：旧时一夜分五更，每更大约两小时。风一更、雪一更，即言整夜风雪交加也。聒（guō）：声音嘈杂，这里指风雪声。故园：故乡，这里指北京。此声：指风雪交加的声音。',\n",
       " 'analysis': '&nbsp;&nbsp;词作上片描写跋涉行军与途中驻扎，夹杂着颇多无奈情绪；下片叙述夜来风雪交加，搅碎了乡梦，倍觉惆怅。全词描写将士在外对故乡的思念，抒发了情思深苦的绵长心情。语言淳朴而意味深长，取景宏阔而对照鲜明。&nbsp;&nbsp;“山一程，水一程”，写出旅程的艰难曲折，遥远漫长。词人翻山越岭，登舟涉水，一程又一程，愈走离家乡愈远。这两句运用反复的修辞方法，将“一程”二字重复使用，突出了路途的漫漫修远。“身向榆关那畔行”，点明了行旅的方向。词人在这里强调的是“身”向榆关，那也就暗示出“心”向京师，它使我们想到词人留恋家园，频频回首，步履蹒跚的情况。“那畔”一词颇含疏远的感情色彩，表现了词人这次奉命出行“榆关”是无可奈何的。&nbsp;&nbsp;这里借描述周围的情况而写心情，实际是表达纳兰对故乡的深深依恋和怀念。二十几岁的年轻人，风华正茂，出身于书香豪门世家，又有皇帝贴身侍卫的优越地位，本应春风得意，却恰好也是因为这重身份，以及本身心思慎微，导致纳兰并不能够安稳享受那种男儿征战似的生活，他往往思及家人，眷恋故土。严迪昌《清词史》：“夜深千帐灯’是壮丽的，但千帐灯下照着无眠的万颗乡心，又是怎样情味？一暖一寒，两相对照，写尽了自己厌于扈从的情怀。”“夜深千帐灯”既是上片感情酝酿的高潮，也是上、下片之间的自然转换，起到承前启后的作用。经过日间长途跋涉，到了夜晚人们在旷野上搭起帐篷准备就寝；然而夜深了，“千帐”内却灯光熠熠，为什么羁旅劳顿之后深夜不寐呢？&nbsp;&nbsp;下片侧重游子思乡之苦，交代了深夜不眠的原因。换头写景，风一更雪一更，突出塞外狂风骤雪的荒寒景象。这是以哀景衬伤情，风雪载途，行者乡思更烈。叠用两个一更，突出塞外卷地狂风，铺天暴雪扑打帐篷经久未息的情景；也从一个侧面写出了天寒地冻之夜，人之辗转难眠的状态。聒碎乡心梦不成呼应上片的夜深千帐灯一句，直接回答了深夜不寝的原因。着一聒字，突出了风雪声响之巨；且极具拟人味，仿佛这风雪也通人心似的，彻夜念叨着故园的人事，让人心潮起伏。聒碎乡心，用的是夸张手法，形象地表现了一夜征人尽望乡的愁肠百转的心态。故园无此声，交代了梦不成的原因：故乡是没有这样的连绵不绝的风雪聒噪声的，当然可以酣然入梦；而这边塞苦寒之地，怎比钟灵毓秀之京都，况且又是暴风雪肆虐的露营之夜，加之乡心的重重裹挟，就更难入梦了。结尾这一句直截地表达了征人对故乡的深深眷恋之意。&nbsp;&nbsp;从总的来说，上阕写面、写外，铺陈壮观；下阕写点、写内，曲描心情。选取的都是平凡的事物，如山水风雪、灯火声音。又采用短小精悍而通俗易懂的语句，轻巧排列，对应整齐。信手拈来，不显雕琢。全篇融细腻情感于雄壮景色之中，尽显非凡，作者用山，水，千帐灯，风，雪等大的物像，来寄托细腻的情感思绪。缠绵而不颓废，柔情之中露出男儿镇守边塞的慷慨报国之志。没有一般边塞诗的大气、沉痛、悲凉、雄壮，而是风格婉约，笔调缠绵，少了抑扬顿挫的沉雄，多了小女儿的缠绵情态。&nbsp;&nbsp;这首词以白描手法，朴素自然的语言，表现出真切的情感，是很为前人称道的。词人在写景中寄寓了思乡的情怀。格调清淡朴素，自然雅致，直抒胸臆，毫无雕琢痕迹。',\n",
       " 'background': '&nbsp;&nbsp;公元1682年（康熙二十一年）二月十五日，云南平定，康熙帝出关东巡，祭告奉天祖陵。词人随从康熙帝诣永陵、福陵、昭陵告祭，二十三日出山海关。塞上风雪凄迷，苦寒的天气引发了词人对家的思念，于是写下了这首词。 '}"
      ]
     },
     "execution_count": 18,
     "metadata": {},
     "output_type": "execute_result"
    }
   ],
   "source": [
    "import re\n",
    "\n",
    "def clean_html(text):\n",
    "    return re.sub(r'<.*?>', '', text)\n",
    "\n",
    "# 为每条记录清除 HTML 标签\n",
    "for record in data:\n",
    "    record['content'] = clean_html(record['content'])\n",
    "    for key in record['sons']:\n",
    "        record['sons'][key]['content'] = clean_html(record['sons'][key]['content'])\n",
    "        \n",
    "def extract_info(record):\n",
    "    return {\n",
    "        'id': record['id'],\n",
    "        'title': record['title'],\n",
    "        'author': record['author'],\n",
    "        'dynasty': record['dynasty'],\n",
    "        'content': record['content'],\n",
    "        'translation': record['sons']['译文及注释']['content'] if '译文及注释' in record['sons'] else '',\n",
    "        'analysis': record['sons']['赏析']['content'] if '赏析' in record['sons'] else '',\n",
    "        'background': record['sons']['创作背景']['content'] if '创作背景' in record['sons'] else ''\n",
    "    }\n",
    "\n",
    "# 从原始数据中提取所需信息\n",
    "processed_data = [extract_info(record) for record in data]\n",
    "processed_data[0]"
   ]
  },
  {
   "cell_type": "code",
   "execution_count": 28,
   "metadata": {},
   "outputs": [
    {
     "name": "stderr",
     "output_type": "stream",
     "text": [
      "100%|██████████| 108197/108197 [22:42<00:00, 79.43it/s] \n"
     ]
    },
    {
     "name": "stdout",
     "output_type": "stream",
     "text": [
      "generate vectors successfully!\n"
     ]
    }
   ],
   "source": [
    "# -*- coding: utf-8 -*-\n",
    "#!/usr/bin/env python3\n",
    "\n",
    "# Based on: \n",
    "# 代码注释使用中文 - 英文\n",
    "# Code comments use Chinese - English\n",
    "\n",
    "# 将文本转化为向量并存储为文件 - Convert text to vector and store it as a file\n",
    "# 使用方法：text\n",
    "\n",
    "import torch\n",
    "from transformers import AutoTokenizer, AutoModel\n",
    "from tqdm import tqdm  # 导入tqdm库\n",
    "\n",
    "# 检查GPU可用性并设置设备\n",
    "device = torch.device(\"cuda\" if torch.cuda.is_available() else \"cpu\")\n",
    "\n",
    "# 加载模型 - Load model\n",
    "tokenizer = AutoTokenizer.from_pretrained(\"shibing624/text2vec-bge-large-chinese\", cache_dir='embedding_model', model_max_length=512)\n",
    "model = AutoModel.from_pretrained(\"shibing624/text2vec-bge-large-chinese\", cache_dir='embedding_model').to(device)\n",
    "\n",
    "def extract_info_(record):\n",
    "    # 提取 title, author, dynasty 和 content 字段，并将它们连接成一个字符串\n",
    "    text = f\"{record['author']} {record['dynasty']} {record['title']} {record['content']}\"\n",
    "    return text\n",
    "\n",
    "# 平均池化 - Average pooling\n",
    "def mean_pooling(model_output, attention_mask):\n",
    "    token_embeddings = model_output[0]  # First element of model_output contains all token embeddings\n",
    "    input_mask_expanded = attention_mask.unsqueeze(-1).expand(token_embeddings.size()).float()\n",
    "    return torch.sum(token_embeddings * input_mask_expanded, 1) / torch.clamp(input_mask_expanded.sum(1), min=1e-9)\n",
    "\n",
    "# 获取文本的向量 - Get the vector of the text\n",
    "def get_vector(text):\n",
    "    # 将文本分为512字的块\n",
    "    text_chunks = [text[i:i+512] for i in range(0, len(text), 512)]\n",
    "    vectors = []\n",
    "    for chunk in text_chunks:\n",
    "        encoded_input = tokenizer(chunk, padding=True, truncation=True, max_length=512, return_tensors='pt').to(device)\n",
    "        with torch.no_grad():\n",
    "            model_output = model(**encoded_input)\n",
    "        # 使用平均池化获取文本向量 - Use average pooling to get text vectors\n",
    "        vector = mean_pooling(model_output, encoded_input['attention_mask'])\n",
    "        vectors.append(vector)\n",
    "    # 如果有多个块，将其向量表示平均\n",
    "    if len(vectors) > 1:\n",
    "        vectors = torch.stack(vectors, dim=0)\n",
    "        vector = vectors.mean(dim=0)\n",
    "    else:\n",
    "        vector = vectors[0]\n",
    "    return vector.cpu()  # 将结果移回CPU以便于后续处理和保存\n",
    "\n",
    "\n",
    "# 读取处理过的数据并转换为二维向量存储 - Read the processed data and convert it to a two-dimensional vector storage\n",
    "def process_and_save(processed_data):\n",
    "    vectors = []\n",
    "    for record in tqdm(processed_data):  # 使用tqdm来包裹循环\n",
    "        text = extract_info_(record)  # 使用 extract_info 函数来提取需要的字段\n",
    "        vector = get_vector(text)\n",
    "        vectors.append(vector)\n",
    "    vectors = torch.cat(vectors, dim=0)\n",
    "    torch.save((processed_data, vectors), './local_vectors/data_and_vectors.pt')  # 同时保存处理过的数据和向量\n",
    "    print('generate vectors successfully!')\n",
    "\n",
    "\n",
    "\n",
    "if __name__ == '__main__':\n",
    "    processed_data = [extract_info(record) for record in data]\n",
    "    process_and_save(processed_data)\n"
   ]
  },
  {
   "cell_type": "code",
   "execution_count": 30,
   "metadata": {},
   "outputs": [
    {
     "name": "stdout",
     "output_type": "stream",
     "text": [
      "[{'id': 1021, 'title': '静夜思', 'author': '李白', 'dynasty': '唐代', 'content': '床前明月光，疑是地上霜。举头望明月，低头思故乡。', 'translation': '译文明亮的月光洒在窗户纸上，好像地上泛起了一层白霜。我抬起头来，看那天窗外空中的明月，不由得低头沉思，想起远方的家乡。注释静夜思：静静的夜里，产生的思绪。床：今传五种说法。一指井台。已经有学者撰文考证过。中国教育家协会理事程实将考证结果写成论文发表在刊物上，还和好友创作了《诗意图》。二指井栏。从考古发现来看，中国最早的水井是木结构水井。古代井栏有数米高，成方框形围住井口，防止人跌入井内，这方框形既像四堵墙，又像古代的床。因此古代井栏又叫银床，说明井和床有关系，其关系的发生则是由于两者在形状上的相似和功能上的类同。古代井栏专门有一个字来指称，即“韩”字。《说文》释“韩”为“井垣也”，即井墙之意。三“床”即“窗”的通假字。本诗中的‘床’字，是争论和异议的焦点。我们可以做一下基本推理。本诗的写作背景是在一个明月夜，很可能是月圆前后，作者由看到月光，再看到明月，又引起思乡之情。 既然作者抬头看到了明月，那么作者不可能身处室内，在室内随便一抬头，是看不到月亮的。因此我们断定，‘床’是室外的一件物什，至于具体是什么，很难考证。从意义上讲，‘床’可能与‘窗’通假，而且在窗户前面是可能看到月亮的。但是，参照宋代版本，‘举头望山月’，便可证实作者所言乃是室外的月亮。从时间上讲，宋代版本比明代版本在对作者原意的忠诚度上，更加可靠。 四取本义，即坐卧的器具，《诗经·小雅·斯干》有“载寐之牀”，《易·剥牀·王犊注》亦有“在下而安者也。”之说，讲得即是卧具。五马未都等认为，床应解释为胡床。胡床，亦称“交床”、“交椅”、“绳床”。古时一种可以折叠的轻便坐具，马扎功能类似小板凳，但人所坐的面非木板，而是可卷折的布或类似物，两边腿可合起来。现代人常为古代文献中或诗词中的“胡床”或“床”所误。至迟在唐时，“床”仍然是“胡床”（即马扎，一种坐具）。疑：好像。 举头：抬头。', 'analysis': '&nbsp;&nbsp;这首诗写的是在寂静的月夜思念家乡的感受。&nbsp;&nbsp;诗的前两句，是写诗人在作客他乡的特定环境中一刹那间所产生的错觉。一个独处他乡的人，白天奔波忙碌，倒还能冲淡离愁，然而一到夜深人静的时候，心头就难免泛起阵阵思念故乡的波澜。何况是在月明之夜，更何况是月色如霜的秋夜。“疑是地上霜”中的“疑”字，生动地表达了诗人睡梦初醒，迷离恍惚中将照射在床前的清冷月光误作铺在地面的浓霜。而“霜”字用得更妙，既形容了月光的皎洁，又表达了季节的寒冷，还烘托出诗人飘泊他乡的孤寂凄凉之情。 &nbsp;&nbsp;诗的后两句，则是通过动作神态的刻画，深化思乡之情。“望”字照应了前句的“疑”字，表明诗人已从迷朦转为清醒，他翘首凝望着月亮，不禁想起，此刻他的故乡也正处在这轮明月的照耀下。于是自然引出了“低头思故乡”的结句。“低头”这一动作描画出诗人完全处于沉思之中。而“思”字又给读者留下丰富的想象：那家乡的父老兄弟、亲朋好友，那家乡的一山一水、一草一木，那逝去的年华与往事……无不在思念之中。一个“思”字所包涵的内容实在太丰富了。 &nbsp;&nbsp;明人胡应麟说：“太白诸绝句，信口而成，所谓无意于工而无不工者。”（《诗薮·内编》卷六）王世懋认为：“（绝句）盛唐惟青莲（李白）、龙标（王昌龄）二家诣极。李更自然，故居王上。”（《艺圃撷馀》）怎样才算“自然”，才是“无意于工而无不工”呢？这首《静夜思》就是个样榜。所以胡氏特地把它提出来，说是“妙绝古今”。&nbsp;&nbsp;这首小诗，既没有奇特新颖的想象，更没有精工华美的辞藻；它只是用叙述的语气，写远客思乡之情，然而它却意味深长，耐人寻味，千百年来，如此广泛地吸引着读者。&nbsp;&nbsp;一个作客他乡的人，大概都会有这样的感觉吧：白天倒还罢了，到了夜深人静的时候，思乡的情绪，就难免一阵阵地在心头泛起波澜；何况是月明之夜，更何况是明月如霜的秋夜！&nbsp;&nbsp;月白霜清，是清秋夜景；以霜色形容月光，也是古典诗歌中所经常看到的。例如梁简文帝萧纲《玄圃纳凉》诗中就有“夜月似秋霜”之句；而稍早于李白的唐代诗人张若虚在《春江花月夜》里，用“空里流霜不觉飞”来写空明澄澈的月光，给人以立体感，尤见构思之妙。可是这些都是作为一种修辞的手段而在诗中出现的。这诗的“疑是地上霜”，是叙述，而非摹形拟象的状物之辞，是诗人在特定环境中一刹那间所产生的错觉。为什么会有这样的错觉呢？不难想象，这两句所描写的是客中深夜不能成眠、短梦初回的情景。这时庭院是寂寥的，透过窗户的皎洁月光射到床前，带来了冷森森的秋宵寒意。诗人朦胧地乍一望去，在迷离恍惚的心情中，真好象是地上铺了一层白皑皑的浓霜；可是再定神一看，四周围的环境告诉他，这不是霜痕而是月色。月色不免吸引着他抬头一看，一轮娟娟素魄正挂在窗前，秋夜的太空是如此的明净！这时，他完全清醒了。&nbsp;&nbsp;秋月是分外光明的，然而它又是清冷的。对孤身远客来说，最容易触动旅思秋怀，使人感到客况萧条，年华易逝。凝望着月亮，也最容易使人产生遐想，想到故乡的一切，想到家里的亲人。想着，想着，头渐渐地低了下去，完全浸入于沉思之中。&nbsp;&nbsp;从“疑”到“举头”，从“举头”到“低头”，形象地揭示了诗人内心活动，鲜明地勾勒出一幅生动形象的月夜思乡图。&nbsp;&nbsp;短短四句诗，写得清新朴素，明白如话。它的内容是单纯的，但同时却又是丰富的。它是容易理解的，却又是体味不尽的。诗人所没有说的比他已经说出来的要多得多。它的构思是细致而深曲的，但却又是脱口吟成、浑然无迹的。从这里，读者不难领会到李白绝句的“自然”、“无意于工而无不工”的妙境。 ', 'background': '&nbsp;&nbsp;李白的《静夜思》创作于公元726年（唐玄宗开元十四年）九月十五日的扬州旅舍，当时李白26岁。同时同地所作的还有一首《秋夕旅怀》。在一个月明星稀的夜晚，诗人抬望天空一轮皓月，思乡之情油然而生，写下了这首传诵千古、中外皆知的名诗《静夜思》。 '}, {'id': 100971, 'title': '爱月夜眠迟', 'author': '余玉馨', 'dynasty': '明代', 'content': '晚妆不整云鬟卸，梨花院落閒清夜。桂影初移画阁东，纱窗斜映蟾光射。玉人不寐倚阑干，贪玩冰轮不觉寒。银汉星移繁露坠，庭前犹自捲帘看。', 'translation': '', 'analysis': '', 'background': ''}, {'id': 92045, 'title': '玉漏迟 咏促织', 'author': '彭孙贻', 'dynasty': '明代', 'content': '向空阶絮语，不知何处，愁人偏切。金井银床，一夜碎啼明月。怪杀天涯荡子，禁得过、凉天时节。声暗咽。暮灯初起，晓钟才歇。可怜枕上关山，被片晌凄凉，惊回蝴蝶。独院孤衾，此际更和谁说。追忆金笼闲斗，佯输与、一双条脱。空怅别，雕阑桂花如雪。', 'translation': '', 'analysis': '', 'background': ''}, {'id': 75019, 'title': '秋夕病中', 'author': '守仁', 'dynasty': '明代', 'content': '夕云敛中天，月出万象正。九野声影消，平湖湛寒镜。惊风着露草，栖萤光不定。感新喟时物，金气飒已应。扶羸捲前幔，销肌怯虚静。忧来复就枕，萧条发孤咏。', 'translation': '', 'analysis': '', 'background': ''}, {'id': 22210, 'title': '文章烟月', 'author': '徐祯卿', 'dynasty': '明代', 'content': '                    风霜独卧闲中病，时节偏催壑口蛇。篱下落英秋半掬，灯前新梦鬓双华。文章江左家家玉，烟月扬州树树花。会待此心销灭尽，好持斋钵礼毗耶。                ', 'translation': '', 'analysis': '', 'background': ''}] 5\n"
     ]
    }
   ],
   "source": [
    "# -*- coding: utf-8 -*-\n",
    "#!/usr/bin/env python3\n",
    "\n",
    "# Based on: \n",
    "# 代码注释使用中文 - 英文\n",
    "# Code comments use Chinese - English\n",
    "\n",
    "# 介绍 - Introduction\n",
    "# 本程序用于匹配输入文本与数据库中的相似向量 - This program is used to match the input text with similar vectors in the database\n",
    "# 具体而言 - Specifically\n",
    "# 先将输入文本转化为向量，再与数据库中的向量进行比较 - First convert the input text into a vector, and then compare it with the vector in the database\n",
    "# 使用余弦相似度进行比较 - Use cosine similarity for comparison\n",
    "\n",
    "import torch\n",
    "import faiss\n",
    "import numpy as np\n",
    "import json\n",
    "\n",
    "def read_local_data_and_vectors():\n",
    "    processed_data, vectors = torch.load('./local_vectors/data_and_vectors.pt')\n",
    "    return processed_data, vectors\n",
    "\n",
    "def build_faiss_index(vectors):\n",
    "    dimension = vectors.shape[1]  # 获取向量的维度\n",
    "    index = faiss.IndexFlatL2(dimension)  # 使用L2距离创建一个平面索引\n",
    "    faiss.normalize_L2(vectors)  # L2归一化向量\n",
    "    index.add(vectors)  # 将向量添加到索引中\n",
    "    return index\n",
    "\n",
    "def get_domain_knowledge(text, n):\n",
    "    processed_data, vectors = read_local_data_and_vectors()\n",
    "    input_vector = get_vector(text)\n",
    "    input_vector = input_vector.detach().numpy()\n",
    "    vectors = vectors.detach().numpy()\n",
    "\n",
    "    # 构建FAISS索引并执行搜索\n",
    "    index = build_faiss_index(vectors)\n",
    "    faiss.normalize_L2(input_vector)  # L2归一化输入向量\n",
    "    D, I = index.search(input_vector, n)  # 执行搜索，D是距离，I是索引\n",
    "\n",
    "    if max(I[0]) >= len(processed_data):\n",
    "        raise ValueError(\"Invalid index returned by FAISS\")\n",
    "    selected_records = [processed_data[i] for i in I[0]]  # 直接从索引中选择数据记录\n",
    "    return selected_records\n",
    "\n",
    "if __name__ == '__main__':\n",
    "    input_text = '床前明月光，疑是地上霜'\n",
    "    knowledges = get_domain_knowledge(input_text, 5)\n",
    "    print(knowledges, len(knowledges))\n"
   ]
  },
  {
   "cell_type": "code",
   "execution_count": 1,
   "metadata": {},
   "outputs": [
    {
     "name": "stderr",
     "output_type": "stream",
     "text": [
      "100%|██████████| 108197/108197 [14:36<00:00, 123.47it/s]\n"
     ]
    },
    {
     "name": "stdout",
     "output_type": "stream",
     "text": [
      "generate vectors successfully!\n"
     ]
    }
   ],
   "source": [
    "# import torch\n",
    "# from transformers import AutoTokenizer, AutoModel\n",
    "# import json\n",
    "# from tqdm import tqdm  # 导入tqdm库\n",
    "\n",
    "# # 检查GPU可用性并设置设备\n",
    "# device = torch.device(\"cuda\" if torch.cuda.is_available() else \"cpu\")\n",
    "\n",
    "# # 加载模型 - Load model\n",
    "# tokenizer = AutoTokenizer.from_pretrained(\"shibing624/text2vec-base-chinese\", cache_dir='embedding_model', model_max_length=4096)\n",
    "# model = AutoModel.from_pretrained(\"shibing624/text2vec-base-chinese\", cache_dir='embedding_model').to(device)\n",
    "\n",
    "# # 平均池化 - Average pooling\n",
    "# def mean_pooling(model_output, attention_mask):\n",
    "#     token_embeddings = model_output[0]  # First element of model_output contains all token embeddings\n",
    "#     input_mask_expanded = attention_mask.unsqueeze(-1).expand(token_embeddings.size()).float()\n",
    "#     return torch.sum(token_embeddings * input_mask_expanded, 1) / torch.clamp(input_mask_expanded.sum(1), min=1e-9)\n",
    "\n",
    "# # # 获取文本的向量 - Get the vector of the text\n",
    "# def get_vector(text):\n",
    "#     encoded_input = tokenizer(text, padding=True, truncation=True, max_length=512, return_tensors='pt').to(device)\n",
    "#     with torch.no_grad():\n",
    "#         model_output = model(**encoded_input)\n",
    "#     # 使用平均池化获取文本向量 - Use average pooling to get text vectors\n",
    "#     input_ids = mean_pooling(model_output, encoded_input['attention_mask'])\n",
    "#     return input_ids.cpu()  # 将结果移回CPU以便于后续处理和保存\n",
    "\n",
    "# # 读取本地数据库并转换为二维向量存储 - Read the local database and convert it to a two-dimensional vector storage\n",
    "# def read_and_save(file):\n",
    "#     file = json.load(open(file, 'r', encoding='utf-8'))\n",
    "#     vectors = []\n",
    "#     for i in tqdm(range(len(file))):  # 使用tqdm来包裹循环\n",
    "#         line = str(file[i])\n",
    "#         vector = get_vector(line)\n",
    "#         vectors.append(vector)\n",
    "#     vectors = torch.cat(vectors, dim=0)\n",
    "#     torch.save(vectors, './local_vectors/vectors.pt') # 保存向量的路径及文件名\n",
    "#     print('generate vectors successfully!')\n",
    "\n",
    "# if __name__ == '__main__':\n",
    "#     read_and_save('gushiwen.json')\n"
   ]
  },
  {
   "cell_type": "code",
   "execution_count": 8,
   "metadata": {},
   "outputs": [
    {
     "name": "stdout",
     "output_type": "stream",
     "text": [
      "[[0.3872871  0.51717025 0.40761554 ... 0.35118365 0.31330284 0.30679044]]\n",
      "['{\\'id\\': 15174, \\'href\\': \\'/shiwenv_8b21fe7ed15d.aspx\\', \\'title\\': \\'无俗念·灵虚宫梨花词\\', \\'author\\': \\'丘处机\\', \\'dynasty\\': \\'宋代\\', \\'content\\': \\'<br/>                    春游浩荡，是年年寒食，梨花时节。白锦无纹香烂漫，玉树琼苞堆雪。静夜沉沉，浮光霭霭，冷浸溶溶月。人间天上，烂银霞照通彻。浑似姑射真人，天姿灵秀，意气舒高洁。万蕊参差谁信道，不与群芳同列。浩气清英，仙材卓荦，下土难分别。瑶台归去，洞天方看清绝。<br/>                \\', \\'sons\\': {\\'赏析\\': {\\'content\\': \\'&nbsp;&nbsp;上片写梨花开放的时间、风姿、周围的环境。前两句点出梨花开于晚春的寒食节前后，“春游浩荡”表明是芳草萋萋、漫天飞花的暮春季节。“白锦”二句，以白锦和白雪比喻梨花的洁白无瑕与香花烂漫的盛开模样，反用岑参的“忽如一夜春风来，千树万树梨花开”，形象真实而鲜明。“静夜”至上片末，写梨花开放的环境，暮霭沉沉天地阔的静夜里，梨花悄悄地绽放在月光溶溶的夜色中。“冷”字，生动地烘托出宁静、微寒的夜景，使读者想到曹雪芹的“冷月葬花魂”。人间与天上都溶浸在皓月与花色交织而成的氛围中，月光皎洁、花似雪明，给人一种高洁、脱俗的感受。<br/>&nbsp;&nbsp;下片前三句用典，继续以“天姿灵秀”的姑射真人来比喻梨花，《庄子·逍遥游》云：“藐姑射之山，有神人居焉，肌肤若冰雪，绰约若处子。”这三句就是用这典故，这位神人，修养已经达到神化难测的境界，暗写梨花的冰清玉洁与静若处子的仙姿。“万化”诸句写作者的体会与想法。由上句的“神人无功”，这位藐姑射山神人虽有大功，却无意于求功，这正是作者所追求的志向；作者又由梨花的清高绝俗、不与群芳同伍，感慨世俗之人未能欣赏，就好像俗人对作者的清高傲骨未能赏识。毕竟，世人多醉我清醒，这种不食人间烟火、超尘拔世的清凉境界，也只有能进入洞天福地修行的有道者，才能心领神会。此词虽是咏物，实即咏自己，这正是文人咏物词的寄寓手法。此词把梨花独特超群的气质，写得生动鲜明，让人有清新脱俗、灵秀异常的感觉，虽结尾不免落入谈道论教的范围，但仍不失为一首佳作。词人所选取的歌咏之物，往往是个人内在性情与艺术风格的表征，因此丘处机歌咏浩气清英、仙材卓荦的梨花，可以看出其清新脱俗的风格、灵秀异常的神人气息，而表现于作品中，则呈现了清拔脱俗的风格特色。 <br/>\\', \\'cankao\\': \\'<br/>本节内容由匿名网友上传，原作者已无法考证。本站免费发布仅供学习参考，其观点不代表本站立场。站务邮箱：gushiwen@laiyo.com完善<br/>\\'}, \\'评价\\': {\\'content\\': \\'\\', \\'cankao\\': \\'<br/>本节内容由匿名网友上传，原作者已无法考证。本站免费发布仅供学习参考，其观点不代表本站立场。站务邮箱：gushiwen@laiyo.com完善<br/>\\'}}, \\'links\\': \"[\\'/shiwenv_c9a88877cfbc.aspx\\', \\'/shiwenv_c7b375cfd91f.aspx\\', \\'/shiwenv_cbbb4bd0d351.aspx\\']\"}'] 1\n"
     ]
    }
   ],
   "source": [
    "# import torch\n",
    "# import numpy as np\n",
    "# from sklearn.metrics.pairwise import cosine_similarity\n",
    "# import json\n",
    "\n",
    "# # 读取本地数据库 - Read the local database\n",
    "# def read_local_vectors():\n",
    "#     vectors = torch.load('./local_vectors/vectors.pt')\n",
    "#     return vectors\n",
    "\n",
    "# # 将输入文本转化为向量并与数据库中的向量进行比较 - Convert the input text into a vector and compare it with the vector in the database\n",
    "# # 输出相似度最高的前n个文本的序号 - Output the serial number of the top 5 texts with the highest similarity\n",
    "# def get_domain_knowledge(text, n, threshold=0.2):\n",
    "#     # 参数介绍 - Parameter introduction\n",
    "#     # text: 输入文本 - Input text\n",
    "#     # n: 输出相似度最高的前n个文本的序号 - Output the serial number of the top 5 texts with the highest similarity\n",
    "#     # threshold: 概率阈值，小于该阈值的知识将被忽略 - Probability threshold, texts with probability less than this threshold will be ignored\n",
    "    \n",
    "#     # 读取数据库中的向量 - Read the vector in the database\n",
    "#     vectors = read_local_vectors()\n",
    "#     # 将输入文本转化为向量 - Convert the input text into a vector\n",
    "#     input_vector = get_vector(text)\n",
    "#     # 将输入文本转化为numpy数组 - Convert the input text into a numpy array\n",
    "#     input_vector = input_vector.detach().numpy()\n",
    "#     # 将数据库中的向量转化为numpy数组 - Convert the vector in the database to a numpy array\n",
    "#     vectors = vectors.detach().numpy()\n",
    "#     # 计算每个问题与输入文本的相似度 - Calculate the similarity between each question and the input text\n",
    "#     similarity = cosine_similarity(input_vector, vectors)\n",
    "#     print(similarity)\n",
    "#     similarity_sorted = np.squeeze(similarity)\n",
    "#     # 按照相似度从大到小排序 - Sort by similarity from large to small\n",
    "#     similarity_sorted = np.argsort(-similarity_sorted)\n",
    "#     if n > len(similarity):\n",
    "#         n = len(similarity)\n",
    "#     if len(similarity) > 0:\n",
    "#         # 取出相似度最高的前n个文本的序号 - Take out the serial number of the top n texts with the highest similarity\n",
    "#         knowledges_ids = similarity_sorted[:n].tolist()\n",
    "#         # 读取知识库 - Read the knowledge base\n",
    "#         with open('gushiwen.json', 'r', encoding='utf8') as file:\n",
    "#             file_content = file.read()\n",
    "#             knowledges = json.loads(file_content)\n",
    "\n",
    "#             # 去除概率小于阈值的知识 - Remove knowledge with probability less than threshold\n",
    "#             knowledges_ids = [i for i in knowledges_ids if similarity[0][i] > threshold]\n",
    "#             # 直接输出资料文本 - directly output the text\n",
    "#             knowledges = [str(knowledge) for knowledge in knowledges]\n",
    "#             # 取出相似度最高的前n个文本 - Take out the top n texts with the highest similarity\n",
    "#             knowledges = [knowledges[i] for i in knowledges_ids]\n",
    "#         return knowledges\n",
    "#     return ''\n",
    "\n",
    "# # sample:\n",
    "# if __name__ == '__main__':\n",
    "#     input_text = '沁园春·雪'\n",
    "#     knowledges = get_domain_knowledge(input_text, 5)\n",
    "#     print(knowledges, len(knowledges))"
   ]
  }
 ],
 "metadata": {
  "kernelspec": {
   "display_name": "audio",
   "language": "python",
   "name": "python3"
  },
  "language_info": {
   "codemirror_mode": {
    "name": "ipython",
    "version": 3
   },
   "file_extension": ".py",
   "mimetype": "text/x-python",
   "name": "python",
   "nbconvert_exporter": "python",
   "pygments_lexer": "ipython3",
   "version": "3.11.4"
  },
  "orig_nbformat": 4
 },
 "nbformat": 4,
 "nbformat_minor": 2
}
